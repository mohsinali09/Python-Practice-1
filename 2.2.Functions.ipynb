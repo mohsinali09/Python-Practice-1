{
 "cells": [
  {
   "cell_type": "markdown",
   "metadata": {},
   "source": [
    "<h1 align=center > FUNCTIONS </h1>"
   ]
  },
  {
   "cell_type": "markdown",
   "metadata": {},
   "source": [
    "Functions are a way to achieve the modularity and reusability in code. Before moving forward we must need to know what are these:\n",
    "    \n",
    "<b> Modularity:</b> Modular programming is the process of subdividing a computer program into separate sub-programs. A module can often be used in a variety of applications and functions with other components of the system.\n",
    "\n",
    "(Reference: https://www.techopedia.com/definition/25972/modular-programming)\n",
    "\n",
    "<b> Reusability: </b> Using of already developed code according to our requirement without writing from the scratch\n",
    "\n",
    "(Reference: https://www.quora.com/What-is-code-reusability)"
   ]
  },
  {
   "cell_type": "markdown",
   "metadata": {},
   "source": [
    "In python we define a function with a keyword def then function name after the name of function we supply pair of parentheses and a colon sign, e.g.\n",
    "\n",
    "<b> def add():\n",
    "\n",
    "        number1 = int(input(‘Enter a value’))\n",
    "    \n",
    "        number2 = int(input(‘Enter another value’))\n",
    "    \n",
    "        print(number1  + number2)\n",
    "</b>\n",
    "\n",
    "Note that every statement which is part of function body is a level indented more than the definition of function"
   ]
  },
  {
   "cell_type": "markdown",
   "metadata": {},
   "source": [
    "In previous slide we have declared a function named add now we can call it as many times and in any module as we want. To call the function we just need to write the name of function followed by pair of parentheses, e.g.\n",
    "\n",
    "<b>add()</b>"
   ]
  },
  {
   "cell_type": "markdown",
   "metadata": {},
   "source": [
    "## Parameter less function:"
   ]
  },
  {
   "cell_type": "code",
   "execution_count": 1,
   "metadata": {},
   "outputs": [],
   "source": [
    "def add():\n",
    "    print(12+5)"
   ]
  },
  {
   "cell_type": "code",
   "execution_count": 2,
   "metadata": {},
   "outputs": [
    {
     "name": "stdout",
     "output_type": "stream",
     "text": [
      "17\n"
     ]
    }
   ],
   "source": [
    "add()"
   ]
  },
  {
   "cell_type": "markdown",
   "metadata": {},
   "source": [
    "## Parameterized/parametric function:"
   ]
  },
  {
   "cell_type": "markdown",
   "metadata": {},
   "source": [
    "### Positional arguments\n",
    "A generic function does not define any data it processes inside it hard-coded instead it accepts the data when it is called and processes that data,e.g.\n",
    "\n",
    "<b> def add(number1, number2):\n",
    "    \n",
    "            print(number1  + number2)\n",
    "</b>\n",
    "\n",
    "Now to call the function we need to pass two arguments and they are matched according to their position in the function call, e.g. here value 3 will be assigned in number1 while value 5 will be assigned to number2 variable\n",
    "\n",
    "<b>add(3, 5)</b>\n"
   ]
  },
  {
   "cell_type": "code",
   "execution_count": 3,
   "metadata": {},
   "outputs": [],
   "source": [
    "def add(a,b):\n",
    "    print(a+b)    "
   ]
  },
  {
   "cell_type": "code",
   "execution_count": 4,
   "metadata": {},
   "outputs": [
    {
     "name": "stdout",
     "output_type": "stream",
     "text": [
      "600\n"
     ]
    }
   ],
   "source": [
    "add(100,500)"
   ]
  },
  {
   "cell_type": "code",
   "execution_count": 5,
   "metadata": {},
   "outputs": [
    {
     "name": "stdout",
     "output_type": "stream",
     "text": [
      "30\n"
     ]
    }
   ],
   "source": [
    "add(10,20)"
   ]
  },
  {
   "cell_type": "code",
   "execution_count": 6,
   "metadata": {},
   "outputs": [
    {
     "name": "stdout",
     "output_type": "stream",
     "text": [
      "8\n"
     ]
    }
   ],
   "source": [
    "add(3, 5)"
   ]
  },
  {
   "cell_type": "code",
   "execution_count": 7,
   "metadata": {},
   "outputs": [],
   "source": [
    "def fullname(first, middle, last):\n",
    "    print(first + middle + last)"
   ]
  },
  {
   "cell_type": "code",
   "execution_count": 8,
   "metadata": {},
   "outputs": [
    {
     "name": "stdout",
     "output_type": "stream",
     "text": [
      "MMohsinAli\n"
     ]
    }
   ],
   "source": [
    "fullname('M', 'Mohsin', 'Ali')"
   ]
  },
  {
   "cell_type": "markdown",
   "metadata": {},
   "source": [
    "### Keyword arguments"
   ]
  },
  {
   "cell_type": "markdown",
   "metadata": {},
   "source": [
    "<b>def add(number1, number2):\n",
    "    \n",
    "        \n",
    "        print(number1  + number2)\n",
    "</b>\n",
    "        \n",
    "        \n",
    "There is another way to call same function that we pass the arguments with the name of variable, this way position does not matter but the value is assigned to matching name variable in function parameters, e.g.\n",
    "\n",
    "\n",
    "\n",
    "<b>add(number2 = 5, number1 = 3)</b>"
   ]
  },
  {
   "cell_type": "code",
   "execution_count": 9,
   "metadata": {},
   "outputs": [
    {
     "name": "stdout",
     "output_type": "stream",
     "text": [
      "MMohsinAli\n"
     ]
    }
   ],
   "source": [
    "fullname(middle=\"Mohsin\", last=\"Ali\", first=\"M\")"
   ]
  },
  {
   "cell_type": "code",
   "execution_count": 10,
   "metadata": {},
   "outputs": [
    {
     "name": "stdout",
     "output_type": "stream",
     "text": [
      "MMohsinHaider\n"
     ]
    }
   ],
   "source": [
    "fullname('M', 'Mohsin', last=\"Haider\")"
   ]
  },
  {
   "cell_type": "code",
   "execution_count": 11,
   "metadata": {},
   "outputs": [
    {
     "ename": "SyntaxError",
     "evalue": "positional argument follows keyword argument (<ipython-input-11-aa5a65e88ad8>, line 1)",
     "output_type": "error",
     "traceback": [
      "\u001b[1;36m  File \u001b[1;32m\"<ipython-input-11-aa5a65e88ad8>\"\u001b[1;36m, line \u001b[1;32m1\u001b[0m\n\u001b[1;33m    fullname(last = \"Haider\",'M',middle='Mohsin')\u001b[0m\n\u001b[1;37m                            ^\u001b[0m\n\u001b[1;31mSyntaxError\u001b[0m\u001b[1;31m:\u001b[0m positional argument follows keyword argument\n"
     ]
    }
   ],
   "source": [
    "fullname(last = \"Haider\",'M',middle='Mohsin')"
   ]
  },
  {
   "cell_type": "markdown",
   "metadata": {},
   "source": [
    "### Default Value Parameter"
   ]
  },
  {
   "cell_type": "markdown",
   "metadata": {},
   "source": [
    "<b> def add(number1 = 0, number2 = 0):\n",
    "    \n",
    "        print(number1  + number2)\n",
    "</b>\n",
    "\n",
    "\n",
    "There are times when some parameter value are optional but still you need a default value in case if someone does not provide the value to avoid any non deterministic behaviors, e.g.\\\n",
    "\n",
    "\n",
    "<b>add(number2 = 5)</b>\n"
   ]
  },
  {
   "cell_type": "code",
   "execution_count": 12,
   "metadata": {},
   "outputs": [],
   "source": [
    "def fullname(first, last, middle=\" \"):\n",
    "    print(first + middle + last)"
   ]
  },
  {
   "cell_type": "code",
   "execution_count": 13,
   "metadata": {},
   "outputs": [
    {
     "name": "stdout",
     "output_type": "stream",
     "text": [
      "M Mohsin\n"
     ]
    }
   ],
   "source": [
    "fullname('M', 'Mohsin')"
   ]
  },
  {
   "cell_type": "code",
   "execution_count": 14,
   "metadata": {},
   "outputs": [
    {
     "name": "stdout",
     "output_type": "stream",
     "text": [
      "MAliMohsin\n"
     ]
    }
   ],
   "source": [
    "fullname('M', 'Mohsin','Ali')"
   ]
  },
  {
   "cell_type": "markdown",
   "metadata": {},
   "source": [
    "## Mixing positional and keyword arguments\n",
    "\n",
    "Be careful mixing positional and keyword arguments. Positional arguments must come before keyword arguments. Keyword arguments don't have to line up with parameters, but positional arguments must do."
   ]
  },
  {
   "cell_type": "markdown",
   "metadata": {},
   "source": [
    "## Dealing with Unknown/Arbitrary number of arguments"
   ]
  },
  {
   "cell_type": "markdown",
   "metadata": {},
   "source": [
    "In some cases we can not actually guess how many arguments user would pass when calling function so we need a parameter that can take all values provided by the user. \n",
    "\n",
    "<b>def display_nums(first_num, second_num,*opt_nums):\n",
    "    \n",
    "    print(first_num)\n",
    "    \n",
    "    print(second_num)4\n",
    "    \n",
    "    print(opt_nums)\n",
    "    \n",
    "</b>\n",
    "-> Here we see a parameter with(*) , this parameter will deal with arbitrary number\n"
   ]
  },
  {
   "cell_type": "code",
   "execution_count": 15,
   "metadata": {},
   "outputs": [],
   "source": [
    "def PizzaOrder(size,flavour,*toppings):\n",
    "    print(f\"Your order for Pizza of Size {size}, Flavour {flavour} and Toppings {toppings} is ready \")"
   ]
  },
  {
   "cell_type": "code",
   "execution_count": 16,
   "metadata": {},
   "outputs": [
    {
     "name": "stdout",
     "output_type": "stream",
     "text": [
      "Your order for Pizza of Size 12\", Flavour ChickenTikka and Toppings ('Olives', 'Myonese', 'Extra Spice') is ready \n"
     ]
    }
   ],
   "source": [
    "PizzaOrder('12\"',\"ChickenTikka\",\"Olives\",\"Myonese\", \"Extra Spice\")"
   ]
  },
  {
   "cell_type": "markdown",
   "metadata": {},
   "source": [
    "## Passing Information back from them"
   ]
  },
  {
   "cell_type": "markdown",
   "metadata": {},
   "source": [
    "Functions not only performs a given task when they are called. But a function may also return some value to user. This returned value can be assigned, reused and be modified then."
   ]
  },
  {
   "cell_type": "code",
   "execution_count": 17,
   "metadata": {},
   "outputs": [],
   "source": [
    "def add(val1, val2):\n",
    "    ans = val1 + val2\n",
    "    return ans, \"Hello Functon\"\n",
    "    print(\"After return\")"
   ]
  },
  {
   "cell_type": "code",
   "execution_count": 18,
   "metadata": {},
   "outputs": [
    {
     "data": {
      "text/plain": [
       "(6, 'Hello Functon')"
      ]
     },
     "execution_count": 18,
     "metadata": {},
     "output_type": "execute_result"
    }
   ],
   "source": [
    "result = add(2,4)\n",
    "result"
   ]
  },
  {
   "cell_type": "markdown",
   "metadata": {},
   "source": [
    "## Using functons as variables (Which is what they really are)"
   ]
  },
  {
   "cell_type": "markdown",
   "metadata": {},
   "source": [
    "Functions can be used as variables. This is done by using function call in o\n",
    "ur expressions"
   ]
  },
  {
   "cell_type": "code",
   "execution_count": 19,
   "metadata": {},
   "outputs": [
    {
     "data": {
      "text/plain": [
       "6"
      ]
     },
     "execution_count": 19,
     "metadata": {},
     "output_type": "execute_result"
    }
   ],
   "source": [
    "def add(a,b):\n",
    "    return a + b\n",
    "def sub(a,b):\n",
    "    return a - b\n",
    "result = add(2,3) + sub(3,2)\n",
    "result"
   ]
  },
  {
   "cell_type": "markdown",
   "metadata": {},
   "source": [
    "## Function's Local vs. Global Variables"
   ]
  },
  {
   "cell_type": "markdown",
   "metadata": {},
   "source": [
    "Local Variable are the variable defined inside the functions. There scope is only inside the function. They are not accessible outside the function.\n",
    "Global varaibles are the varaibles defined out side the function and can be accessed and modified in and outside the function"
   ]
  },
  {
   "cell_type": "markdown",
   "metadata": {},
   "source": [
    "### Local Variable"
   ]
  },
  {
   "cell_type": "code",
   "execution_count": 20,
   "metadata": {},
   "outputs": [],
   "source": [
    "def BeHappy():\n",
    "    name_1 = \"Mr.A\"\n",
    "    print(f\"{name_1} is very Happy today\")"
   ]
  },
  {
   "cell_type": "code",
   "execution_count": 21,
   "metadata": {},
   "outputs": [
    {
     "name": "stdout",
     "output_type": "stream",
     "text": [
      "Mr.A is very Happy today\n"
     ]
    }
   ],
   "source": [
    "BeHappy()"
   ]
  },
  {
   "cell_type": "code",
   "execution_count": 22,
   "metadata": {},
   "outputs": [
    {
     "ename": "NameError",
     "evalue": "name 'name_1' is not defined",
     "output_type": "error",
     "traceback": [
      "\u001b[1;31m---------------------------------------------------------------------------\u001b[0m",
      "\u001b[1;31mNameError\u001b[0m                                 Traceback (most recent call last)",
      "\u001b[1;32m<ipython-input-22-0516606a4a6f>\u001b[0m in \u001b[0;36m<module>\u001b[1;34m\u001b[0m\n\u001b[1;32m----> 1\u001b[1;33m \u001b[0mprint\u001b[0m\u001b[1;33m(\u001b[0m\u001b[0mname_1\u001b[0m\u001b[1;33m)\u001b[0m\u001b[1;33m\u001b[0m\u001b[1;33m\u001b[0m\u001b[0m\n\u001b[0m",
      "\u001b[1;31mNameError\u001b[0m: name 'name_1' is not defined"
     ]
    }
   ],
   "source": [
    "print(name_1)"
   ]
  },
  {
   "cell_type": "markdown",
   "metadata": {},
   "source": [
    "### Global Variable"
   ]
  },
  {
   "cell_type": "code",
   "execution_count": 23,
   "metadata": {},
   "outputs": [],
   "source": [
    "name_2 = \"Mr.B\"\n",
    "\n",
    "def DoNotBeSad():\n",
    "    print(f\"{name_2} is very Sad today\")"
   ]
  },
  {
   "cell_type": "code",
   "execution_count": 25,
   "metadata": {},
   "outputs": [
    {
     "name": "stdout",
     "output_type": "stream",
     "text": [
      "Mr.B is very Sad today\n"
     ]
    }
   ],
   "source": [
    "DoNotBeSad()"
   ]
  },
  {
   "cell_type": "code",
   "execution_count": 26,
   "metadata": {},
   "outputs": [
    {
     "name": "stdout",
     "output_type": "stream",
     "text": [
      "Mr.B\n"
     ]
    }
   ],
   "source": [
    "print(name_2)"
   ]
  },
  {
   "cell_type": "markdown",
   "metadata": {},
   "source": [
    "## Functions within a Function (Nested Function)"
   ]
  },
  {
   "cell_type": "markdown",
   "metadata": {},
   "source": [
    "Right now we have learned how to call function. We can call a function inside another function providing the required signature of the function."
   ]
  },
  {
   "cell_type": "code",
   "execution_count": 27,
   "metadata": {},
   "outputs": [],
   "source": [
    "def Commission(Sales):\n",
    "    if Sales > 100:\n",
    "        return Sales*100\n",
    "    elif Sales > 50:\n",
    "        return Sales*50\n",
    "    elif Sales > 20:\n",
    "        return Sales*20\n",
    "    else:\n",
    "        return 0\n",
    "\n",
    "def SalaryCal(BasicSalary,Sales):\n",
    "    GrossSalary = BasicSalary + Commission(Sales)\n",
    "    print(f\"Your Gross Salary is {GrossSalary}\")"
   ]
  },
  {
   "cell_type": "code",
   "execution_count": 28,
   "metadata": {},
   "outputs": [
    {
     "name": "stdout",
     "output_type": "stream",
     "text": [
      "Your Gross Salary is 65000\n"
     ]
    }
   ],
   "source": [
    "SalaryCal(50000,150)"
   ]
  }
 ],
 "metadata": {
  "kernelspec": {
   "display_name": "Python 3",
   "language": "python",
   "name": "python3"
  },
  "language_info": {
   "codemirror_mode": {
    "name": "ipython",
    "version": 3
   },
   "file_extension": ".py",
   "mimetype": "text/x-python",
   "name": "python",
   "nbconvert_exporter": "python",
   "pygments_lexer": "ipython3",
   "version": "3.7.6"
  }
 },
 "nbformat": 4,
 "nbformat_minor": 4
}
