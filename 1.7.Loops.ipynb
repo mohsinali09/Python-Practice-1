{
 "cells": [
  {
   "cell_type": "markdown",
   "metadata": {},
   "source": [
    "<h1 align=center > LOOPS </h1>"
   ]
  },
  {
   "cell_type": "markdown",
   "metadata": {},
   "source": [
    "## For Loop:"
   ]
  },
  {
   "cell_type": "code",
   "execution_count": 1,
   "metadata": {},
   "outputs": [
    {
     "name": "stdout",
     "output_type": "stream",
     "text": [
      "0 mohsin\n",
      "1 mohsin\n",
      "2 mohsin\n",
      "3 mohsin\n",
      "4 mohsin\n"
     ]
    }
   ],
   "source": [
    "for a in range(5):\n",
    "    print(a, \"mohsin\")"
   ]
  },
  {
   "cell_type": "code",
   "execution_count": 2,
   "metadata": {},
   "outputs": [
    {
     "name": "stdout",
     "output_type": "stream",
     "text": [
      "0\n",
      "1\n",
      "2\n",
      "3\n",
      "4\n",
      "5\n",
      "6\n",
      "7\n",
      "8\n",
      "9\n"
     ]
    }
   ],
   "source": [
    "for number in range(10):\n",
    "    print(number)"
   ]
  },
  {
   "cell_type": "code",
   "execution_count": 3,
   "metadata": {},
   "outputs": [
    {
     "name": "stdout",
     "output_type": "stream",
     "text": [
      "1\n",
      "2\n",
      "3\n",
      "4\n",
      "5\n",
      "6\n",
      "7\n",
      "8\n",
      "9\n"
     ]
    }
   ],
   "source": [
    "for number in range(1, 10):\n",
    "    print(number)"
   ]
  },
  {
   "cell_type": "code",
   "execution_count": 4,
   "metadata": {},
   "outputs": [
    {
     "name": "stdout",
     "output_type": "stream",
     "text": [
      "1\n",
      "3\n",
      "5\n",
      "7\n",
      "9\n"
     ]
    }
   ],
   "source": [
    "for number in range(1,10,2):\n",
    "    print(number)"
   ]
  },
  {
   "cell_type": "code",
   "execution_count": 5,
   "metadata": {},
   "outputs": [
    {
     "name": "stdout",
     "output_type": "stream",
     "text": [
      "10\n",
      "8\n",
      "6\n",
      "4\n",
      "2\n"
     ]
    }
   ],
   "source": [
    "for number in range(10,1,-2):\n",
    "    print(number)"
   ]
  },
  {
   "cell_type": "code",
   "execution_count": 7,
   "metadata": {},
   "outputs": [],
   "source": [
    "cities = ['khi','multan','quetta']"
   ]
  },
  {
   "cell_type": "code",
   "execution_count": 8,
   "metadata": {},
   "outputs": [
    {
     "data": {
      "text/plain": [
       "['khi', 'multan', 'quetta']"
      ]
     },
     "execution_count": 8,
     "metadata": {},
     "output_type": "execute_result"
    }
   ],
   "source": [
    "cities"
   ]
  },
  {
   "cell_type": "code",
   "execution_count": 11,
   "metadata": {},
   "outputs": [
    {
     "name": "stdout",
     "output_type": "stream",
     "text": [
      "The city under consideration is khi\n",
      "The city under consideration is multan\n",
      "The city under consideration is quetta\n"
     ]
    }
   ],
   "source": [
    "for city in cities:\n",
    "    print(f\"The city under consideration is {city}\")"
   ]
  },
  {
   "cell_type": "code",
   "execution_count": 12,
   "metadata": {},
   "outputs": [
    {
     "name": "stdout",
     "output_type": "stream",
     "text": [
      "11\n",
      "22\n",
      "33\n",
      "44\n",
      "55\n"
     ]
    }
   ],
   "source": [
    "for num in [11,22,33,44,55]:\n",
    "    print(num)"
   ]
  },
  {
   "cell_type": "code",
   "execution_count": 15,
   "metadata": {},
   "outputs": [
    {
     "name": "stdout",
     "output_type": "stream",
     "text": [
      "P\n",
      "a\n",
      "k\n",
      "i\n",
      "s\n",
      "t\n",
      "a\n",
      "n\n"
     ]
    }
   ],
   "source": [
    "country = \"Pakistan\"\n",
    "\n",
    "for char in country:\n",
    "    print(char)"
   ]
  },
  {
   "cell_type": "code",
   "execution_count": 16,
   "metadata": {},
   "outputs": [
    {
     "name": "stdout",
     "output_type": "stream",
     "text": [
      "Pakistan\n",
      "America\n"
     ]
    }
   ],
   "source": [
    "country = \"Pakistan\", \"America\" # tuple\n",
    "\n",
    "for char in country:\n",
    "    print(char)"
   ]
  },
  {
   "cell_type": "markdown",
   "metadata": {},
   "source": [
    "### For Loop's Break and Continue"
   ]
  },
  {
   "cell_type": "code",
   "execution_count": 20,
   "metadata": {},
   "outputs": [
    {
     "name": "stdout",
     "output_type": "stream",
     "text": [
      "0\n"
     ]
    }
   ],
   "source": [
    "for number in range(10):\n",
    "    if number % 3 == 1:\n",
    "        break\n",
    "    print(number)"
   ]
  },
  {
   "cell_type": "code",
   "execution_count": 23,
   "metadata": {},
   "outputs": [
    {
     "name": "stdout",
     "output_type": "stream",
     "text": [
      "0\n"
     ]
    }
   ],
   "source": [
    "for number in range(10):\n",
    "    if number % 3 != 0:\n",
    "        break\n",
    "    print(number)"
   ]
  },
  {
   "cell_type": "code",
   "execution_count": 25,
   "metadata": {},
   "outputs": [
    {
     "name": "stdout",
     "output_type": "stream",
     "text": [
      "5\n",
      "7\n",
      "11\n"
     ]
    }
   ],
   "source": [
    "for number in [5,7,11,90]:\n",
    "    if number % 2 == 0:\n",
    "        break\n",
    "    print(number)"
   ]
  },
  {
   "cell_type": "code",
   "execution_count": 27,
   "metadata": {},
   "outputs": [
    {
     "name": "stdout",
     "output_type": "stream",
     "text": [
      "0\n",
      "1\n",
      "2\n",
      "3\n",
      "5\n",
      "6\n",
      "8\n",
      "9\n"
     ]
    }
   ],
   "source": [
    "for num in range(10):\n",
    "    if num == 7 or num == 4:\n",
    "        continue\n",
    "    print(num)"
   ]
  },
  {
   "cell_type": "markdown",
   "metadata": {},
   "source": [
    "## Nested For Loop"
   ]
  },
  {
   "cell_type": "code",
   "execution_count": 29,
   "metadata": {},
   "outputs": [
    {
     "name": "stdout",
     "output_type": "stream",
     "text": [
      "Inner Loop Begins\n",
      "0 P\n",
      "0 a\n",
      "0 k\n",
      "0 i\n",
      "0 s\n",
      "0 t\n",
      "0 a\n",
      "0 n\n",
      "Inner Loop Begins\n",
      "1 P\n",
      "1 a\n",
      "1 k\n",
      "1 i\n",
      "1 s\n",
      "1 t\n",
      "1 a\n",
      "1 n\n",
      "Inner Loop Begins\n",
      "2 P\n",
      "2 a\n",
      "2 k\n",
      "2 i\n",
      "2 s\n",
      "2 t\n",
      "2 a\n",
      "2 n\n",
      "Inner Loop Begins\n",
      "3 P\n",
      "3 a\n",
      "3 k\n",
      "3 i\n",
      "3 s\n",
      "3 t\n",
      "3 a\n",
      "3 n\n",
      "Inner Loop Begins\n",
      "4 P\n",
      "4 a\n",
      "4 k\n",
      "4 i\n",
      "4 s\n",
      "4 t\n",
      "4 a\n",
      "4 n\n"
     ]
    }
   ],
   "source": [
    "for a in range(5):\n",
    "    print(\"Inner Loop Begins\")\n",
    "    for char in \"Pakistan\":\n",
    "        print(a, char)"
   ]
  },
  {
   "cell_type": "code",
   "execution_count": 30,
   "metadata": {},
   "outputs": [
    {
     "name": "stdout",
     "output_type": "stream",
     "text": [
      "Enter Table Number5\n",
      "5 * 1 = 5\n",
      "5 * 2 = 10\n",
      "5 * 3 = 15\n",
      "5 * 4 = 20\n",
      "5 * 5 = 25\n",
      "5 * 6 = 30\n",
      "5 * 7 = 35\n",
      "5 * 8 = 40\n",
      "5 * 9 = 45\n",
      "5 * 10 = 50\n"
     ]
    }
   ],
   "source": [
    "TableNumber = int(input(\"Enter Table Number\"))\n",
    "for a in range(1,11):\n",
    "    print(f\"{TableNumber} * {a} = {TableNumber * a}\")"
   ]
  },
  {
   "cell_type": "code",
   "execution_count": 46,
   "metadata": {},
   "outputs": [
    {
     "name": "stdout",
     "output_type": "stream",
     "text": [
      "Tables range 2 to 5\n",
      "2 * 1 = 2\n",
      "2 * 2 = 4\n",
      "2 * 3 = 6\n",
      "2 * 4 = 8\n",
      "2 * 5 = 10\n",
      "2 * 6 = 12\n",
      "2 * 7 = 14\n",
      "2 * 8 = 16\n",
      "2 * 9 = 18\n",
      "2 * 10 = 20\n",
      "3 * 1 = 3\n",
      "3 * 2 = 6\n",
      "3 * 3 = 9\n",
      "3 * 4 = 12\n",
      "3 * 5 = 15\n",
      "3 * 6 = 18\n",
      "3 * 7 = 21\n",
      "3 * 8 = 24\n",
      "3 * 9 = 27\n",
      "3 * 10 = 30\n",
      "4 * 1 = 4\n",
      "4 * 2 = 8\n",
      "4 * 3 = 12\n",
      "4 * 4 = 16\n",
      "4 * 5 = 20\n",
      "4 * 6 = 24\n",
      "4 * 7 = 28\n",
      "4 * 8 = 32\n",
      "4 * 9 = 36\n",
      "4 * 10 = 40\n",
      "5 * 1 = 5\n",
      "5 * 2 = 10\n",
      "5 * 3 = 15\n",
      "5 * 4 = 20\n",
      "5 * 5 = 25\n",
      "5 * 6 = 30\n",
      "5 * 7 = 35\n",
      "5 * 8 = 40\n",
      "5 * 9 = 45\n",
      "5 * 10 = 50\n"
     ]
    }
   ],
   "source": [
    "tables = int(input(\"Tables range 2 to \"))\n",
    "for table in range(2,tables+1):\n",
    "    for a in range(1,11):\n",
    "        print(f\"{table} * {a} = {table * a}\")"
   ]
  },
  {
   "cell_type": "markdown",
   "metadata": {},
   "source": [
    "## While Loop"
   ]
  },
  {
   "cell_type": "code",
   "execution_count": 4,
   "metadata": {},
   "outputs": [
    {
     "name": "stdout",
     "output_type": "stream",
     "text": [
      "0 This is while loop printing\n",
      "1 This is while loop printing\n",
      "2 This is while loop printing\n",
      "3 This is while loop printing\n",
      "4 This is while loop printing\n",
      "5 This is while loop printing\n",
      "6 This is while loop printing\n",
      "7 This is while loop printing\n",
      "8 This is while loop printing\n",
      "9 This is while loop printing\n",
      "10 This is while loop printing\n"
     ]
    }
   ],
   "source": [
    "a = 0\n",
    "while a <= 10:\n",
    "    print(a, \"This is while loop printing\")\n",
    "    a+=1"
   ]
  },
  {
   "cell_type": "code",
   "execution_count": 7,
   "metadata": {},
   "outputs": [
    {
     "name": "stdout",
     "output_type": "stream",
     "text": [
      "0 This is for loop printing\n",
      "1 This is for loop printing\n",
      "2 This is for loop printing\n",
      "3 This is for loop printing\n",
      "4 This is for loop printing\n",
      "5 This is for loop printing\n",
      "6 This is for loop printing\n",
      "7 This is for loop printing\n",
      "8 This is for loop printing\n",
      "9 This is for loop printing\n",
      "10 This is for loop printing\n"
     ]
    }
   ],
   "source": [
    "for num in range(0, 11):\n",
    "    print(num, \"This is for loop printing\")"
   ]
  },
  {
   "cell_type": "code",
   "execution_count": 1,
   "metadata": {},
   "outputs": [
    {
     "name": "stdout",
     "output_type": "stream",
     "text": [
      "Enter your favourite food :a\n",
      "Enter your favourite food :b\n",
      "Enter your favourite food :b\n",
      "Enter your favourite food :c\n",
      "Enter your favourite food :d\n",
      "Enter your favourite food :e\n",
      "Enter your favourite food :f\n",
      "Enter your favourite food :a\n",
      "Enter your favourite food :a\n",
      "Enter your favourite food :a\n"
     ]
    }
   ],
   "source": [
    "a = 0\n",
    "while a < 10:\n",
    "    userinput = input(\"Enter your favourite food :\")\n",
    "    a += 1"
   ]
  },
  {
   "cell_type": "markdown",
   "metadata": {},
   "source": [
    "### Setting a Flag"
   ]
  },
  {
   "cell_type": "code",
   "execution_count": 2,
   "metadata": {},
   "outputs": [
    {
     "name": "stdout",
     "output_type": "stream",
     "text": [
      "Enter Your favourite Food :Karahi\n",
      "Enter Your favourite Food :Biryani\n",
      "Enter Your favourite Food :Daal\n",
      "Enter Your favourite Food :Chawal\n",
      "Enter Your favourite Food :Q\n"
     ]
    },
    {
     "data": {
      "text/plain": [
       "['Karahi', 'Biryani', 'Daal', 'Chawal']"
      ]
     },
     "execution_count": 2,
     "metadata": {},
     "output_type": "execute_result"
    }
   ],
   "source": [
    "flag = True\n",
    "favfoods = []\n",
    "while flag:\n",
    "    userinput = input(\"Enter Your favourite Food :\")\n",
    "    if userinput == \"Q\":\n",
    "        flag = False\n",
    "    else:\n",
    "        favfoods.append(userinput)\n",
    "favfoods"
   ]
  }
 ],
 "metadata": {
  "kernelspec": {
   "display_name": "Python 3",
   "language": "python",
   "name": "python3"
  },
  "language_info": {
   "codemirror_mode": {
    "name": "ipython",
    "version": 3
   },
   "file_extension": ".py",
   "mimetype": "text/x-python",
   "name": "python",
   "nbconvert_exporter": "python",
   "pygments_lexer": "ipython3",
   "version": "3.7.6"
  }
 },
 "nbformat": 4,
 "nbformat_minor": 4
}
