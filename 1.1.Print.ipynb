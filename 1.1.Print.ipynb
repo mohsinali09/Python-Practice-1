{
 "cells": [
  {
   "cell_type": "markdown",
   "metadata": {},
   "source": [
    "<h1 align=center > PRINT </h1>\n",
    "<a id=\"ref1\"></a>"
   ]
  },
  {
   "cell_type": "code",
   "execution_count": 1,
   "metadata": {},
   "outputs": [
    {
     "name": "stdout",
     "output_type": "stream",
     "text": [
      "Hello Python 3\n"
     ]
    }
   ],
   "source": [
    "print(\"Hello Python 3\")"
   ]
  },
  {
   "cell_type": "code",
   "execution_count": 2,
   "metadata": {},
   "outputs": [
    {
     "name": "stdout",
     "output_type": "stream",
     "text": [
      "1000\n"
     ]
    }
   ],
   "source": [
    "print(1000)"
   ]
  },
  {
   "cell_type": "code",
   "execution_count": 3,
   "metadata": {},
   "outputs": [
    {
     "name": "stdout",
     "output_type": "stream",
     "text": [
      "123 456\n"
     ]
    }
   ],
   "source": [
    "print(123,456)"
   ]
  },
  {
   "cell_type": "code",
   "execution_count": 4,
   "metadata": {},
   "outputs": [
    {
     "name": "stdout",
     "output_type": "stream",
     "text": [
      "\n"
     ]
    }
   ],
   "source": [
    "print()"
   ]
  },
  {
   "cell_type": "code",
   "execution_count": 5,
   "metadata": {},
   "outputs": [
    {
     "name": "stdout",
     "output_type": "stream",
     "text": [
      "123 12.3\n"
     ]
    }
   ],
   "source": [
    "print(123,12.3) #integer and floating point"
   ]
  },
  {
   "cell_type": "code",
   "execution_count": 6,
   "metadata": {},
   "outputs": [
    {
     "name": "stdout",
     "output_type": "stream",
     "text": [
      "python\n"
     ]
    }
   ],
   "source": [
    "print(\"python\")"
   ]
  },
  {
   "cell_type": "code",
   "execution_count": 7,
   "metadata": {},
   "outputs": [
    {
     "name": "stdout",
     "output_type": "stream",
     "text": [
      "12\n"
     ]
    }
   ],
   "source": [
    "print(\"12\")"
   ]
  },
  {
   "cell_type": "code",
   "execution_count": 8,
   "metadata": {},
   "outputs": [
    {
     "name": "stdout",
     "output_type": "stream",
     "text": [
      "123Pakistan\n"
     ]
    }
   ],
   "source": [
    "print(\"123Pakistan\")"
   ]
  },
  {
   "cell_type": "code",
   "execution_count": 9,
   "metadata": {},
   "outputs": [
    {
     "name": "stdout",
     "output_type": "stream",
     "text": [
      "Pakistan Python PIAIC\n"
     ]
    }
   ],
   "source": [
    "print(\"Pakistan\",'Python','PIAIC') #By default 1 space would be between two values"
   ]
  },
  {
   "cell_type": "code",
   "execution_count": 10,
   "metadata": {},
   "outputs": [
    {
     "name": "stdout",
     "output_type": "stream",
     "text": [
      "PakistanPythonPIAIC\n"
     ]
    }
   ],
   "source": [
    "print(\"Pakistan\",'Python','PIAIC', sep=\"\")"
   ]
  },
  {
   "cell_type": "code",
   "execution_count": 11,
   "metadata": {},
   "outputs": [
    {
     "name": "stdout",
     "output_type": "stream",
     "text": [
      "Pakistan#####Python#####PIAIC\n"
     ]
    }
   ],
   "source": [
    "print(\"Pakistan\",'Python','PIAIC', sep=\"#####\")"
   ]
  },
  {
   "cell_type": "code",
   "execution_count": 12,
   "metadata": {},
   "outputs": [
    {
     "name": "stdout",
     "output_type": "stream",
     "text": [
      "PakistaniamaseperatorPythoniamaseperatorPIAIC\n"
     ]
    }
   ],
   "source": [
    "print(\"Pakistan\",'Python','PIAIC', sep=\"iamaseperator\")"
   ]
  },
  {
   "cell_type": "code",
   "execution_count": 13,
   "metadata": {},
   "outputs": [
    {
     "name": "stdout",
     "output_type": "stream",
     "text": [
      "Hello World1\n",
      "Hello World2\n",
      "Hello World3\n"
     ]
    }
   ],
   "source": [
    "print(\"Hello World1\") #By default new line stars from very next line\n",
    "print(\"Hello World2\")\n",
    "print(\"Hello World3\")"
   ]
  },
  {
   "cell_type": "code",
   "execution_count": 14,
   "metadata": {},
   "outputs": [
    {
     "name": "stdout",
     "output_type": "stream",
     "text": [
      "Hello World1Hello World2Hello World3\n"
     ]
    }
   ],
   "source": [
    "print(\"Hello World1\", end=\"\") #By default new line stars from very next line\n",
    "print(\"Hello World2\", end=\"\")\n",
    "print(\"Hello World3\")"
   ]
  },
  {
   "cell_type": "code",
   "execution_count": 15,
   "metadata": {},
   "outputs": [
    {
     "name": "stdout",
     "output_type": "stream",
     "text": [
      "Hello World1\tHello World2\t\tHello World3\n"
     ]
    }
   ],
   "source": [
    "print(\"Hello World1\", end=\"\\t\") #By default new line stars from very next line\n",
    "print(\"Hello World2\", end=\"\\t\\t\")\n",
    "print(\"Hello World3\")"
   ]
  },
  {
   "cell_type": "code",
   "execution_count": 16,
   "metadata": {},
   "outputs": [
    {
     "name": "stdout",
     "output_type": "stream",
     "text": [
      "Hello World1\n",
      "\n",
      "Hello World2\n",
      "\n",
      "Hello World3\n"
     ]
    }
   ],
   "source": [
    "print(\"Hello World1\", end=\"\\n\\n\") #By default new line stars from very next line\n",
    "print(\"Hello World2\", end=\"\\n\\n\")\n",
    "print(\"Hello World3\")"
   ]
  }
 ],
 "metadata": {
  "kernelspec": {
   "display_name": "Python 3",
   "language": "python",
   "name": "python3"
  },
  "language_info": {
   "codemirror_mode": {
    "name": "ipython",
    "version": 3
   },
   "file_extension": ".py",
   "mimetype": "text/x-python",
   "name": "python",
   "nbconvert_exporter": "python",
   "pygments_lexer": "ipython3",
   "version": "3.7.6"
  }
 },
 "nbformat": 4,
 "nbformat_minor": 4
}
